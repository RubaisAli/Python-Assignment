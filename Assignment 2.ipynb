{
 "cells": [
  {
   "cell_type": "code",
   "execution_count": 4,
   "metadata": {},
   "outputs": [
    {
     "name": "stdout",
     "output_type": "stream",
     "text": [
      "Enter marks of the first subject: 43\n",
      "Enter marks of the second subject: 43\n",
      "Enter marks of the third subject: 43\n",
      "Enter marks of the fourth subject: 43\n",
      "Enter marks of the fifth subject: 43\n",
      "Grade: B\n"
     ]
    }
   ],
   "source": [
    "s1=int(input(\"Enter marks of the first subject: \"))\n",
    "s2=int(input(\"Enter marks of the second subject: \"))\n",
    "s3=int(input(\"Enter marks of the third subject: \"))\n",
    "s4=int(input(\"Enter marks of the fourth subject: \"))\n",
    "s5=int(input(\"Enter marks of the fifth subject: \"))\n",
    "avg=int((s1+s2+s3+s4+s4)/5)\n",
    "if(avg>=90):\n",
    "    print(\"Grade: A\")\n",
    "elif(avg>=80 & avg<90):\n",
    "    print(\"Grade: B\")\n",
    "elif(avg>=70 & avg<80):\n",
    "    print(\"Grade: C\")\n",
    "elif(avg>=60 & avg<70):\n",
    "    print(\"Grade: D\")\n",
    "else:\n",
    "    print(\"Grade: F\")"
   ]
  },
  {
   "cell_type": "code",
   "execution_count": 6,
   "metadata": {},
   "outputs": [
    {
     "name": "stdout",
     "output_type": "stream",
     "text": [
      "Enter a number: 44\n",
      "This is an even number.\n"
     ]
    }
   ],
   "source": [
    "number = int(input(\"Enter a number: \"))\n",
    "mod = number % 2\n",
    "if mod > 0:\n",
    "    print(\"This is an odd number.\")\n",
    "else:\n",
    "    print(\"This is an even number.\")"
   ]
  },
  {
   "cell_type": "code",
   "execution_count": null,
   "metadata": {},
   "outputs": [],
   "source": []
  },
  {
   "cell_type": "code",
   "execution_count": 10,
   "metadata": {},
   "outputs": [
    {
     "name": "stdout",
     "output_type": "stream",
     "text": [
      "Length of list: 1\n",
      "Length of list: 2\n",
      "Length of list: 3\n",
      "Length of list: 4\n",
      "Length of list: 5\n"
     ]
    }
   ],
   "source": [
    "list = [ 1, 4, 5, 7, 8 ]\n",
    "counter = 0\n",
    "for i in list: \n",
    "    counter = counter + 1\n",
    "    print (\"Length of list: \" + str(counter)) "
   ]
  },
  {
   "cell_type": "code",
   "execution_count": 11,
   "metadata": {},
   "outputs": [
    {
     "name": "stdout",
     "output_type": "stream",
     "text": [
      "Length of list: 6\n"
     ]
    }
   ],
   "source": [
    "list = [ 1, 65, 25, 70, 28, 20]\n",
    "counter = 0\n",
    "for i in list: \n",
    "    counter = counter + 1;\n",
    "print (\"Length of list: \" + str(counter)) "
   ]
  },
  {
   "cell_type": "code",
   "execution_count": 14,
   "metadata": {},
   "outputs": [
    {
     "name": "stdout",
     "output_type": "stream",
     "text": [
      "Sum of given list:  15\n"
     ]
    }
   ],
   "source": [
    "total = 0\n",
    "i = 0\n",
    "list_for_sum = [1, 2, 3, 4, 5] \n",
    "while(i < len(list_for_sum)): \n",
    "    total = total + list_for_sum[i] \n",
    "    i += 1;\n",
    "print(\"Sum of given list: \", total) "
   ]
  },
  {
   "cell_type": "code",
   "execution_count": 15,
   "metadata": {},
   "outputs": [
    {
     "name": "stdout",
     "output_type": "stream",
     "text": [
      "Largest element is: 59\n"
     ]
    }
   ],
   "source": [
    "list = [4, 10, 42, 35, 59] \n",
    "print(\"Largest element is:\", max(list)) "
   ]
  },
  {
   "cell_type": "code",
   "execution_count": 16,
   "metadata": {},
   "outputs": [
    {
     "name": "stdout",
     "output_type": "stream",
     "text": [
      "1\n",
      "1\n",
      "2\n",
      "3\n"
     ]
    }
   ],
   "source": [
    "a = [1, 1, 2, 3, 5, 8, 13, 21, 34, 55, 89]\n",
    "for i in a:\n",
    "    if i < 5:\n",
    "        print(i)"
   ]
  },
  {
   "cell_type": "code",
   "execution_count": null,
   "metadata": {},
   "outputs": [],
   "source": []
  }
 ],
 "metadata": {
  "kernelspec": {
   "display_name": "Python 3",
   "language": "python",
   "name": "python3"
  },
  "language_info": {
   "codemirror_mode": {
    "name": "ipython",
    "version": 3
   },
   "file_extension": ".py",
   "mimetype": "text/x-python",
   "name": "python",
   "nbconvert_exporter": "python",
   "pygments_lexer": "ipython3",
   "version": "3.7.4"
  }
 },
 "nbformat": 4,
 "nbformat_minor": 2
}
